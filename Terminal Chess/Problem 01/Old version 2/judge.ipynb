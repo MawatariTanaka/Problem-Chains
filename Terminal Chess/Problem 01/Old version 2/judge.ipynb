{
 "cells": [
  {
   "cell_type": "code",
   "execution_count": 11,
   "metadata": {},
   "outputs": [],
   "source": [
    "from contextlib import contextmanager\n",
    "import threading\n",
    "import _thread\n",
    "import random\n",
    "\n",
    "class TimeoutException(Exception):\n",
    "    pass\n",
    "\n",
    "@contextmanager\n",
    "def time_limit(seconds):\n",
    "    timer = threading.Timer(seconds, lambda: _thread.interrupt_main())\n",
    "    timer.start()\n",
    "    try:\n",
    "        yield\n",
    "    except KeyboardInterrupt:\n",
    "        raise TimeoutException(\"\")\n",
    "    finally:\n",
    "        # if the action ends in specified time, timer is canceled\n",
    "        timer.cancel()\n",
    "\n",
    "    \n",
    "def test(cases, test_func, condition_func):\n",
    "    total_number_of_tests = len(cases)\n",
    "    count = 0\n",
    "    for i, case in enumerate(cases):\n",
    "        try:\n",
    "            with time_limit(1):  # =============== 5 SECONDS LIMIT =================\n",
    "                passed = condition_func(test_func, case)\n",
    "                if passed:\n",
    "                    count += 1\n",
    "        except TimeoutException:\n",
    "            return \"TIME LIMIT EXCEEDED\"\n",
    "        except Exception as ex:\n",
    "            return 'EXCEPTION: {}'.format(ex)\n",
    "    return 'ACCEPTED' if count == total_number_of_tests else 'WRONG ANSWER'"
   ]
  },
  {
   "cell_type": "code",
   "execution_count": 12,
   "metadata": {},
   "outputs": [
    {
     "name": "stdout",
     "output_type": "stream",
     "text": [
      "TIME LIMIT EXCEEDED\n"
     ]
    }
   ],
   "source": [
    "%run submission.ipynb\n",
    "def condition_func_problem_01(test_func, case):\n",
    "    return test_func(*case[0]) == case[1]\n",
    "\n",
    "def generate_test_case_list(n):\n",
    "    # create an empty list\n",
    "    test_case_list = []\n",
    "    # add some base cases and edge cases manually\n",
    "    test_case_list.append(((1, 1, 1, 1, 1, 1), 0)) # base case\n",
    "    test_case_list.append(((10**9, 10**9, 10**9, 10**9, 10**9, 10**9), 0)) # edge case\n",
    "    test_case_list.append(((10**9, 10**9, 10**9, 10**9, 1, 1), 10**9 - 1)) # edge case\n",
    "    test_case_list.append(((10**9, 10**9, 1, 1, 10**9, 10**9), 10**9 - 1)) # edge case\n",
    "    test_case_list.append(((10**9, 10**9, 500000000, 500000000, 500000001, 500000001), 1)) # edge case\n",
    "    # generate n - len(test_case_list) random test cases using the function above\n",
    "    for i in range(n - len(test_case_list)):\n",
    "        M = random.randint(1, 10**9)\n",
    "        N = random.randint(1, 10**9)\n",
    "        x1 = random.randint(1, M)\n",
    "        y1 = random.randint(1, N)\n",
    "        x2 = random.randint(1, M)\n",
    "        y2 = random.randint(1, N)\n",
    "        answer = max(abs(x2 - x1), abs(y2 - y1))\n",
    "        test_case_list.append(((M, N, x1, y1, x2, y2), answer))\n",
    "    return test_case_list\n",
    "\n",
    "test_cases_problem_01 = generate_test_case_list(1000)\n",
    "\n",
    "results = test(test_cases_problem_01, get_move, condition_func_problem_01)\n",
    "print(results)"
   ]
  }
 ],
 "metadata": {
  "kernelspec": {
   "display_name": "Python 3",
   "language": "python",
   "name": "python3"
  },
  "language_info": {
   "codemirror_mode": {
    "name": "ipython",
    "version": 3
   },
   "file_extension": ".py",
   "mimetype": "text/x-python",
   "name": "python",
   "nbconvert_exporter": "python",
   "pygments_lexer": "ipython3",
   "version": "3.11.2"
  },
  "orig_nbformat": 4
 },
 "nbformat": 4,
 "nbformat_minor": 2
}
